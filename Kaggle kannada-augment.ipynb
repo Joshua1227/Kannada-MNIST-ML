{
 "cells": [
  {
   "cell_type": "code",
   "execution_count": 1,
   "metadata": {},
   "outputs": [],
   "source": [
    "import time\n",
    "\n",
    "import matplotlib.pyplot as plt \n",
    "import numpy as np \n",
    "import os \n",
    "import pandas as pd \n",
    "import seaborn as sns"
   ]
  },
  {
   "cell_type": "code",
   "execution_count": 2,
   "metadata": {},
   "outputs": [],
   "source": [
    "train_images = np.load(\"Kannada_MNIST_npz/Kannada_MNIST/X_kannada_MNIST_train.npz\")['arr_0']\n",
    "test_images = np.load(\"Kannada_MNIST_npz/Kannada_MNIST/X_kannada_MNIST_test.npz\")['arr_0']\n",
    "train_labels = np.load(\"Kannada_MNIST_npz/Kannada_MNIST/y_kannada_MNIST_train.npz\")['arr_0']\n",
    "test_labels = np.load(\"Kannada_MNIST_npz/Kannada_MNIST/y_kannada_MNIST_test.npz\")['arr_0']"
   ]
  },
  {
   "cell_type": "code",
   "execution_count": 3,
   "metadata": {},
   "outputs": [],
   "source": [
    "import tensorflow.keras as keras\n",
    "from tensorflow.keras.datasets import mnist\n",
    "from tensorflow.keras.models import Sequential\n",
    "from tensorflow.keras.layers import Dense, Dropout, Flatten\n",
    "from tensorflow.keras.layers import Conv2D, MaxPooling2D\n",
    "from tensorflow.keras import backend as K"
   ]
  },
  {
   "cell_type": "code",
   "execution_count": 4,
   "metadata": {},
   "outputs": [],
   "source": [
    "img_rows, img_cols = 28, 28\n",
    "batch_size = 128\n",
    "number_of_samples = 60000\n",
    "num_classes = 10\n",
    "epochs = 10"
   ]
  },
  {
   "cell_type": "code",
   "execution_count": 5,
   "metadata": {},
   "outputs": [],
   "source": [
    "x_train = np.expand_dims(train_images, axis=-1)\n",
    "x_test = np.expand_dims(test_images, axis=-1)\n",
    "y_train = keras.utils.to_categorical(train_labels)\n",
    "y_test = keras.utils.to_categorical(test_labels)\n",
    "images = np.load(\"Kannada_MNIST_npz/Dig_MNIST/X_dig_MNIST.npz\")['arr_0']\n",
    "labels = np.load(\"Kannada_MNIST_npz/Dig_MNIST/y_dig_MNIST.npz\")['arr_0']\n",
    "x_digi_test = np.expand_dims(images, axis=-1)\n",
    "y_digi_test = keras.utils.to_categorical(labels)"
   ]
  },
  {
   "cell_type": "code",
   "execution_count": 6,
   "metadata": {},
   "outputs": [
    {
     "name": "stderr",
     "output_type": "stream",
     "text": [
      "Using TensorFlow backend.\n"
     ]
    }
   ],
   "source": [
    "from keras.preprocessing.image import ImageDataGenerator\n",
    "datagen = ImageDataGenerator(shear_range = 0.5)\n",
    "it = datagen.flow(x_train, y_train, batch_size=batch_size, classmode)"
   ]
  },
  {
   "cell_type": "code",
   "execution_count": 7,
   "metadata": {},
   "outputs": [
    {
     "name": "stdout",
     "output_type": "stream",
     "text": [
      "WARNING:tensorflow:From /home/daniel/anaconda3/lib/python3.7/site-packages/tensorflow/python/ops/init_ops.py:1251: calling VarianceScaling.__init__ (from tensorflow.python.ops.init_ops) with dtype is deprecated and will be removed in a future version.\n",
      "Instructions for updating:\n",
      "Call initializer instance with the dtype argument instead of passing it to the constructor\n"
     ]
    }
   ],
   "source": [
    "model = Sequential()\n",
    "model.add(Conv2D(32, kernel_size=(3, 3),\n",
    "                 activation='relu',\n",
    "                 input_shape=(img_rows, img_cols, 1)))\n",
    "model.add(Conv2D(64, (3, 3), activation='relu'))\n",
    "model.add(MaxPooling2D(pool_size=(2, 2)))\n",
    "model.add(Dropout(0.25))\n",
    "model.add(Conv2D(64, (3, 3), activation='relu'))\n",
    "model.add(MaxPooling2D(pool_size=(2, 2)))\n",
    "model.add(Dropout(0.25))\n",
    "model.add(Flatten())\n",
    "model.add(Dense(128, activation='relu'))\n",
    "model.add(Dropout(0.5))\n",
    "model.add(Dense(num_classes, activation='softmax'))"
   ]
  },
  {
   "cell_type": "code",
   "execution_count": 8,
   "metadata": {},
   "outputs": [
    {
     "name": "stdout",
     "output_type": "stream",
     "text": [
      "Epoch 1/10\n",
      "468/468 [==============================] - 9s 19ms/step - loss: 0.6530 - acc: 0.8574\n",
      "Epoch 2/10\n",
      "468/468 [==============================] - 8s 17ms/step - loss: 0.0998 - acc: 0.9701\n",
      "Epoch 3/10\n",
      "468/468 [==============================] - 8s 18ms/step - loss: 0.0727 - acc: 0.9788\n",
      "Epoch 4/10\n",
      "468/468 [==============================] - 9s 20ms/step - loss: 0.0582 - acc: 0.9829\n",
      "Epoch 5/10\n",
      "468/468 [==============================] - 10s 21ms/step - loss: 0.0499 - acc: 0.9848\n",
      "Epoch 6/10\n",
      "468/468 [==============================] - 11s 23ms/step - loss: 0.0443 - acc: 0.9867\n",
      "Epoch 7/10\n",
      "468/468 [==============================] - 12s 25ms/step - loss: 0.0455 - acc: 0.9868\n",
      "Epoch 8/10\n",
      "468/468 [==============================] - 12s 25ms/step - loss: 0.0400 - acc: 0.9884\n",
      "Epoch 9/10\n",
      "468/468 [==============================] - 13s 27ms/step - loss: 0.0345 - acc: 0.9896\n",
      "Epoch 10/10\n",
      "468/468 [==============================] - 13s 28ms/step - loss: 0.0333 - acc: 0.9899\n"
     ]
    },
    {
     "data": {
      "text/plain": [
       "<tensorflow.python.keras.callbacks.History at 0x7ff52a1f2ba8>"
      ]
     },
     "execution_count": 8,
     "metadata": {},
     "output_type": "execute_result"
    }
   ],
   "source": [
    "model.compile(loss=keras.losses.categorical_crossentropy,\n",
    "              optimizer=keras.optimizers.Adam(),\n",
    "              metrics=['accuracy'])\n",
    "\n",
    "model.fit_generator(it,\n",
    "          steps_per_epoch = number_of_samples//batch_size,\n",
    "          epochs=epochs,\n",
    "          verbose=1,\n",
    "        )"
   ]
  },
  {
   "cell_type": "code",
   "execution_count": 11,
   "metadata": {},
   "outputs": [
    {
     "name": "stdout",
     "output_type": "stream",
     "text": [
      "10000/10000 [==============================] - 0s 49us/sample\n",
      "              precision    recall  f1-score   support\n",
      "\n",
      "           0     0.9807    0.9140    0.9462      1000\n",
      "           1     0.9212    0.9930    0.9557      1000\n",
      "           2     0.9911    0.9970    0.9940      1000\n",
      "           3     0.9779    0.9730    0.9754      1000\n",
      "           4     0.9660    0.9950    0.9803      1000\n",
      "           5     0.9928    0.9670    0.9797      1000\n",
      "           6     0.9604    0.9690    0.9647      1000\n",
      "           7     0.9936    0.9340    0.9629      1000\n",
      "           8     0.9900    0.9910    0.9905      1000\n",
      "           9     0.9633    0.9970    0.9799      1000\n",
      "\n",
      "    accuracy                         0.9730     10000\n",
      "   macro avg     0.9737    0.9730    0.9729     10000\n",
      "weighted avg     0.9737    0.9730    0.9729     10000\n",
      "\n",
      "[[914  78   0   4   0   0   0   0   3   1]\n",
      " [  0 993   0   5   0   0   0   0   1   1]\n",
      " [  3   0 997   0   0   0   0   0   0   0]\n",
      " [  4   5   4 973   1   5   3   5   0   0]\n",
      " [  0   0   0   0 995   1   1   0   0   3]\n",
      " [  0   0   0   4  27 967   1   0   1   0]\n",
      " [  0   1   0   0   3   0 969   1   1  25]\n",
      " [  6   1   5   9   2   0  34 934   4   5]\n",
      " [  2   0   0   0   2   1   1   0 991   3]\n",
      " [  3   0   0   0   0   0   0   0   0 997]]\n"
     ]
    }
   ],
   "source": [
    "from sklearn.metrics import classification_report\n",
    "from sklearn.metrics import confusion_matrix\n",
    "\n",
    "y_test_pred = model.predict(x_test, batch_size=32, verbose=1)\n",
    "predicted = np.argmax(y_test_pred, axis=1)\n",
    "report = classification_report(np.argmax(y_test, axis=1), predicted, digits = 4)\n",
    "confusion_matrix = confusion_matrix(y_true=np.argmax(y_test, axis=1), y_pred=predicted)\n",
    "print(report)\n",
    "print(confusion_matrix)"
   ]
  },
  {
   "cell_type": "code",
   "execution_count": 12,
   "metadata": {},
   "outputs": [
    {
     "name": "stdout",
     "output_type": "stream",
     "text": [
      "10240/10240 [==============================] - 0s 49us/sample\n",
      "              precision    recall  f1-score   support\n",
      "\n",
      "           0     0.8408    0.6445    0.7297      1024\n",
      "           1     0.9418    0.7900    0.8593      1024\n",
      "           2     0.6949    0.9629    0.8072      1024\n",
      "           3     0.9330    0.6934    0.7955      1024\n",
      "           4     0.8896    0.7949    0.8396      1024\n",
      "           5     0.8899    0.9160    0.9028      1024\n",
      "           6     0.5474    0.7842    0.6447      1024\n",
      "           7     0.8315    0.6553    0.7329      1024\n",
      "           8     0.8483    0.7480    0.7950      1024\n",
      "           9     0.7386    0.9160    0.8178      1024\n",
      "\n",
      "    accuracy                         0.7905     10240\n",
      "   macro avg     0.8156    0.7905    0.7925     10240\n",
      "weighted avg     0.8156    0.7905    0.7925     10240\n",
      "\n",
      "[[660  24  46  23   2   9 101   9  29 121]\n",
      " [ 98 809  42  12   5  18   2  20   4  14]\n",
      " [  6   2 986   1   0   5  15   3   1   5]\n",
      " [  9   2 191 710   5  33  36  33   3   2]\n",
      " [  3   5  25   9 814  26   7   6  57  72]\n",
      " [  0  10  12   2  37 938   0   1  24   0]\n",
      " [  4   0  19   0  48  10 803  58   9  73]\n",
      " [  1   1  31   4   0   5 292 671   3  16]\n",
      " [  3   2  60   0   4  10 146   4 766  29]\n",
      " [  1   4   7   0   0   0  65   2   7 938]]\n"
     ]
    }
   ],
   "source": [
    "from sklearn.metrics import classification_report\n",
    "from sklearn.metrics import confusion_matrix\n",
    "\n",
    "y_digi_pred = model.predict(x_digi_test, batch_size=32, verbose=1)\n",
    "predicted = np.argmax(y_digi_pred, axis=1)\n",
    "report = classification_report(np.argmax(y_digi_test, axis=1), predicted, digits = 4)\n",
    "confusion_matrix = confusion_matrix(y_true=np.argmax(y_digi_test, axis=1), y_pred=predicted)\n",
    "print(report)\n",
    "print(confusion_matrix)"
   ]
  },
  {
   "cell_type": "markdown",
   "metadata": {},
   "source": [
    "from sklearn.metrics import classification_report\n",
    "from sklearn.metrics import confusion_matrix\n",
    "\n",
    "pred = model.predict(x_test, batch_size=32, verbose=1)\n",
    "predicted = np.argmax(pred, axis=1)\n",
    "report = classification_report(np.argmax(y_test, axis=1), predicted, digits = 4)\n",
    "confusion_matrix = confusion_matrix(y_true=np.argmax(y_test, axis=1), y_pred=predicted)\n",
    "print(report)\n",
    "print(confusion_matrix)"
   ]
  },
  {
   "cell_type": "markdown",
   "metadata": {},
   "source": [
    "from sklearn.metrics import classification_report\n",
    "from sklearn.metrics import confusion_matrix\n",
    "\n",
    "pred = model.predict(x_digi_test, batch_size=32, verbose=1)\n",
    "predicted = np.argmax(pred, axis=1)\n",
    "report = classification_report(np.argmax(y_digi_test, axis=1), predicted, digits = 4)\n",
    "confusion_matrix = confusion_matrix(y_true=np.argmax(y_digi_test, axis=1), y_pred=np.argmax(pred, axis=1))\n",
    "print(report)\n",
    "print(confusion_matrix)"
   ]
  },
  {
   "cell_type": "code",
   "execution_count": null,
   "metadata": {},
   "outputs": [],
   "source": [
    "#plot_cm(np.argmax(y_digi_test, axis=1), np.argmax(pred, axis=1))"
   ]
  },
  {
   "cell_type": "code",
   "execution_count": null,
   "metadata": {},
   "outputs": [],
   "source": [
    "print(model.summary())"
   ]
  },
  {
   "cell_type": "code",
   "execution_count": null,
   "metadata": {},
   "outputs": [],
   "source": [
    "from sklearn.metrics import confusion_matrix\n",
    "\n",
    "pred = model.predict(x_test, batch_size=32, verbose=1)\n",
    "predicted = np.argmax(pred, axis=1)\n",
    "confusion_matrix = confusion_matrix(y_true=np.argmax(y_test, axis=1), y_pred=predicted)"
   ]
  },
  {
   "cell_type": "code",
   "execution_count": null,
   "metadata": {},
   "outputs": [],
   "source": [
    "print(confusion_matrix)"
   ]
  }
 ],
 "metadata": {
  "kernelspec": {
   "display_name": "Python 3",
   "language": "python",
   "name": "python3"
  },
  "language_info": {
   "codemirror_mode": {
    "name": "ipython",
    "version": 3
   },
   "file_extension": ".py",
   "mimetype": "text/x-python",
   "name": "python",
   "nbconvert_exporter": "python",
   "pygments_lexer": "ipython3",
   "version": "3.7.3"
  }
 },
 "nbformat": 4,
 "nbformat_minor": 2
}
