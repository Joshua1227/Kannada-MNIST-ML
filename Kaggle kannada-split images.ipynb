{
 "cells": [
  {
   "cell_type": "code",
   "execution_count": 1,
   "metadata": {},
   "outputs": [],
   "source": [
    "import time\n",
    "\n",
    "import matplotlib.pyplot as plt \n",
    "import numpy as np \n",
    "import os \n",
    "import pandas as pd \n",
    "import seaborn as sns"
   ]
  },
  {
   "cell_type": "code",
   "execution_count": 2,
   "metadata": {},
   "outputs": [],
   "source": [
    "train_images = np.load(\"Kannada_MNIST_npz/Kannada_MNIST/X_kannada_MNIST_train.npz\")['arr_0']\n",
    "test_images = np.load(\"Kannada_MNIST_npz/Kannada_MNIST/X_kannada_MNIST_test.npz\")['arr_0']\n",
    "train_labels = np.load(\"Kannada_MNIST_npz/Kannada_MNIST/y_kannada_MNIST_train.npz\")['arr_0']\n",
    "test_labels = np.load(\"Kannada_MNIST_npz/Kannada_MNIST/y_kannada_MNIST_test.npz\")['arr_0']"
   ]
  },
  {
   "cell_type": "code",
   "execution_count": 3,
   "metadata": {},
   "outputs": [],
   "source": [
    "top_left_train = train_images[:,0:14,0:14]\n",
    "top_right_train = train_images[:,0:14,14:28]\n",
    "bot_left_train = train_images[:,14:28,0:14]\n",
    "bot_right_train = train_images[:,14:28,14:28]"
   ]
  },
  {
   "cell_type": "code",
   "execution_count": 4,
   "metadata": {},
   "outputs": [],
   "source": [
    "top_left_test = test_images[:,0:14,0:14]\n",
    "top_right_test = test_images[:,0:14,14:28]\n",
    "bot_left_test = test_images[:,14:28,0:14]\n",
    "bot_right_test = test_images[:,14:28,14:28]"
   ]
  },
  {
   "cell_type": "code",
   "execution_count": 5,
   "metadata": {},
   "outputs": [
    {
     "name": "stderr",
     "output_type": "stream",
     "text": [
      "Using TensorFlow backend.\n"
     ]
    }
   ],
   "source": [
    "import tensorflow.keras as keras\n",
    "from keras.models import Sequential\n",
    "from keras.layers.normalization import BatchNormalization\n",
    "from keras.layers.convolutional import Conv2D\n",
    "from keras.layers.convolutional import MaxPooling2D\n",
    "from keras.layers.core import Activation\n",
    "from keras.layers.core import Dropout\n",
    "from keras.layers.core import Dense\n",
    "from keras.layers.core import Flatten\n",
    "from tensorflow.keras import backend as K"
   ]
  },
  {
   "cell_type": "code",
   "execution_count": 6,
   "metadata": {},
   "outputs": [],
   "source": [
    "img_rows, img_cols = 28, 28\n",
    "batch_size = 128\n",
    "num_classes = 10\n",
    "epochs = 10"
   ]
  },
  {
   "cell_type": "code",
   "execution_count": 7,
   "metadata": {},
   "outputs": [],
   "source": [
    "x_train = np.expand_dims(train_images, axis=-1)\n",
    "top_left_x_train = np.expand_dims(top_left_train, axis=-1)\n",
    "top_right_x_train = np.expand_dims(top_right_train, axis=-1)\n",
    "bot_left_x_train = np.expand_dims(bot_left_train, axis=-1)\n",
    "bot_right_x_train = np.expand_dims(bot_right_train, axis=-1)\n",
    "\n",
    "x_test = np.expand_dims(test_images, axis=-1)\n",
    "top_left_x_test = np.expand_dims(top_left_test, axis=-1)\n",
    "top_right_x_test = np.expand_dims(top_right_test, axis=-1)\n",
    "bot_left_x_test = np.expand_dims(bot_left_test, axis=-1)\n",
    "bot_right_x_test = np.expand_dims(bot_right_test, axis=-1)\n",
    "\n",
    "y_train = keras.utils.to_categorical(train_labels)\n",
    "y_test = keras.utils.to_categorical(test_labels)\n",
    "images = np.load(\"Kannada_MNIST_npz/Dig_MNIST/X_dig_MNIST.npz\")['arr_0']\n",
    "labels = np.load(\"Kannada_MNIST_npz/Dig_MNIST/y_dig_MNIST.npz\")['arr_0']"
   ]
  },
  {
   "cell_type": "code",
   "execution_count": 8,
   "metadata": {},
   "outputs": [],
   "source": [
    "top_left_digi = images[:,0:14,0:14]\n",
    "top_right_digi = images[:,0:14,14:28]\n",
    "bot_left_digi = images[:,14:28,0:14]\n",
    "bot_right_digi = images[:,14:28,14:28]"
   ]
  },
  {
   "cell_type": "code",
   "execution_count": 9,
   "metadata": {},
   "outputs": [],
   "source": [
    "x_digi_test = np.expand_dims(images, axis=-1)\n",
    "top_left_x_digi_test = np.expand_dims(top_left_digi, axis=-1)\n",
    "top_right_x_digi_test = np.expand_dims(top_right_digi, axis=-1)\n",
    "bot_left_x_digi_test = np.expand_dims(bot_left_digi, axis=-1)\n",
    "bot_right_x_digi_test = np.expand_dims(bot_right_digi, axis=-1)\n",
    "\n",
    "y_digi_test = keras.utils.to_categorical(labels)"
   ]
  },
  {
   "cell_type": "code",
   "execution_count": 10,
   "metadata": {},
   "outputs": [
    {
     "name": "stdout",
     "output_type": "stream",
     "text": [
      "WARNING:tensorflow:From /home/daniel/anaconda3/lib/python3.7/site-packages/keras/backend/tensorflow_backend.py:74: The name tf.get_default_graph is deprecated. Please use tf.compat.v1.get_default_graph instead.\n",
      "\n",
      "WARNING:tensorflow:From /home/daniel/anaconda3/lib/python3.7/site-packages/keras/backend/tensorflow_backend.py:517: The name tf.placeholder is deprecated. Please use tf.compat.v1.placeholder instead.\n",
      "\n",
      "WARNING:tensorflow:From /home/daniel/anaconda3/lib/python3.7/site-packages/keras/backend/tensorflow_backend.py:4138: The name tf.random_uniform is deprecated. Please use tf.random.uniform instead.\n",
      "\n",
      "WARNING:tensorflow:From /home/daniel/anaconda3/lib/python3.7/site-packages/keras/backend/tensorflow_backend.py:3976: The name tf.nn.max_pool is deprecated. Please use tf.nn.max_pool2d instead.\n",
      "\n",
      "WARNING:tensorflow:From /home/daniel/anaconda3/lib/python3.7/site-packages/keras/backend/tensorflow_backend.py:133: The name tf.placeholder_with_default is deprecated. Please use tf.compat.v1.placeholder_with_default instead.\n",
      "\n",
      "WARNING:tensorflow:From /home/daniel/anaconda3/lib/python3.7/site-packages/keras/backend/tensorflow_backend.py:3445: calling dropout (from tensorflow.python.ops.nn_ops) with keep_prob is deprecated and will be removed in a future version.\n",
      "Instructions for updating:\n",
      "Please use `rate` instead of `keep_prob`. Rate should be set to `rate = 1 - keep_prob`.\n"
     ]
    }
   ],
   "source": [
    "model_main = Sequential()\n",
    "model_main.add(Conv2D(32, kernel_size=(3, 3),\n",
    "                 activation='relu',\n",
    "                 input_shape=(img_rows, img_cols, 1)))\n",
    "model_main.add(Conv2D(64, (3, 3), activation='relu'))\n",
    "model_main.add(MaxPooling2D(pool_size=(2, 2)))\n",
    "model_main.add(Dropout(0.25))\n",
    "model_main.add(Conv2D(64, (3, 3), activation='relu'))\n",
    "model_main.add(MaxPooling2D(pool_size=(2, 2)))\n",
    "model_main.add(Dropout(0.25))\n",
    "model_main.add(Conv2D(64, (3, 3), activation='relu'))\n",
    "model_main.add(MaxPooling2D(pool_size=(2, 2)))\n",
    "model_main.add(Dropout(0.25))\n",
    "model_main.add(Flatten())\n",
    "\n",
    "\n",
    "\n",
    "model_quat = Sequential()\n",
    "model_quat.add(Conv2D(32, kernel_size=(3, 3),\n",
    "                 activation='relu',\n",
    "                 input_shape=(img_rows/2, img_cols/2, 1)))\n",
    "model_quat.add(Conv2D(64, (3, 3), activation='relu'))\n",
    "model_quat.add(MaxPooling2D(pool_size=(2, 2)))\n",
    "model_quat.add(Dropout(0.25))\n",
    "model_quat.add(Conv2D(64, (3, 3), activation='relu'))\n",
    "model_quat.add(MaxPooling2D(pool_size=(2, 2)))\n",
    "model_quat.add(Dropout(0.25))\n",
    "model_quat.add(Flatten())"
   ]
  },
  {
   "cell_type": "code",
   "execution_count": 11,
   "metadata": {},
   "outputs": [
    {
     "name": "stdout",
     "output_type": "stream",
     "text": [
      "WARNING:tensorflow:From /home/daniel/anaconda3/lib/python3.7/site-packages/keras/backend/tensorflow_backend.py:2741: The name tf.Session is deprecated. Please use tf.compat.v1.Session instead.\n",
      "\n"
     ]
    }
   ],
   "source": [
    "main_features = model_main.predict(x_train)\n",
    "top_left_features = model_quat.predict(top_left_x_train)\n",
    "top_right_features = model_quat.predict(top_right_x_train)\n",
    "bot_left_features = model_quat.predict(bot_left_x_train)\n",
    "bot_right_features = model_quat.predict(bot_right_x_train)\n",
    "\n",
    "total_train_features = np.concatenate((main_features, top_left_features, top_right_features\n",
    "               , bot_left_features, bot_right_features), axis=1)"
   ]
  },
  {
   "cell_type": "code",
   "execution_count": 12,
   "metadata": {},
   "outputs": [],
   "source": [
    "main_features = model_main.predict(x_test)\n",
    "top_left_features = model_quat.predict(top_left_x_test)\n",
    "top_right_features = model_quat.predict(top_right_x_test)\n",
    "bot_left_features = model_quat.predict(bot_left_x_test)\n",
    "bot_right_features = model_quat.predict(bot_right_x_test)\n",
    "\n",
    "total_test_features = np.concatenate((main_features, top_left_features, top_right_features\n",
    "               , bot_left_features, bot_right_features), axis=1)"
   ]
  },
  {
   "cell_type": "code",
   "execution_count": 13,
   "metadata": {},
   "outputs": [],
   "source": [
    "main_features = model_main.predict(x_digi_test)\n",
    "top_left_features = model_quat.predict(top_left_x_digi_test)\n",
    "top_right_features = model_quat.predict(top_right_x_digi_test)\n",
    "bot_left_features = model_quat.predict(bot_left_x_digi_test)\n",
    "bot_right_features = model_quat.predict(bot_right_x_digi_test)\n",
    "\n",
    "total_digi_features = np.concatenate((main_features, top_left_features, top_right_features\n",
    "               , bot_left_features, bot_right_features), axis=1)"
   ]
  },
  {
   "cell_type": "code",
   "execution_count": 14,
   "metadata": {},
   "outputs": [],
   "source": [
    "from sklearn.preprocessing import StandardScaler\n",
    "from sklearn.preprocessing import MinMaxScaler\n",
    "\n",
    "scaler = StandardScaler()\n",
    "mscaler = MinMaxScaler()\n",
    "x_train = mscaler.fit_transform(total_train_features)#np.expand_dims(dct_train, axis=-1)\n",
    "x_test = mscaler.fit_transform(total_test_features)#np.expand_dims(dct_test, axis=-1)\n",
    "x_digi_test = mscaler.fit_transform(total_digi_features)#np.expand_dims(dct_digi, axis=-1)\n",
    "\n",
    "y_train = train_labels#keras.utils.to_categorical(train_labels)\n",
    "y_test = test_labels#keras.utils.to_categorical(test_labels)\n",
    "y_digi_test = labels#keras.utils.to_categorical(digi_labels)"
   ]
  },
  {
   "cell_type": "code",
   "execution_count": 15,
   "metadata": {},
   "outputs": [
    {
     "name": "stderr",
     "output_type": "stream",
     "text": [
      "/home/daniel/anaconda3/lib/python3.7/site-packages/sklearn/svm/base.py:193: FutureWarning: The default value of gamma will change from 'auto' to 'scale' in version 0.22 to account better for unscaled features. Set gamma explicitly to 'auto' or 'scale' to avoid this warning.\n",
      "  \"avoid this warning.\", FutureWarning)\n"
     ]
    }
   ],
   "source": [
    "from sklearn import svm\n",
    "\n",
    "#Create a svm Classifier\n",
    "clf = svm.SVC(kernel='sigmoid') # Linear Kernel\n",
    "\n",
    "#Train the model using the training sets\n",
    "clf.fit(x_train, y_train)\n",
    "\n",
    "#Predict the response for test dataset\n",
    "y_test_pred = clf.predict(x_test)\n",
    "y_digi_pred = clf.predict(x_digi_test)"
   ]
  },
  {
   "cell_type": "markdown",
   "metadata": {},
   "source": [
    "from keras.layers import Input\n",
    "from keras.models import Model\n",
    "from keras.layers import concatenate\n",
    "\n",
    "\n",
    "input_main = Input(shape=(img_rows, img_cols, 1))\n",
    "input_top_left = Input(shape=(img_rows/2, img_cols/2, 1))\n",
    "input_top_right = Input(shape=(img_rows/2, img_cols/2, 1))\n",
    "input_bot_left = Input(shape=(img_rows/2, img_cols/2, 1))\n",
    "input_bot_right = Input(shape=(img_rows/2, img_cols/2, 1))"
   ]
  },
  {
   "cell_type": "markdown",
   "metadata": {},
   "source": [
    "x_main = Conv2D(32, kernel_size=(3, 3), activation=\"relu\")(input_main)\n",
    "x_main = Conv2D(64, (3, 3), activation='relu')(x_main)\n",
    "x_main = MaxPooling2D(pool_size=(2, 2))(x_main)\n",
    "x_main = Dropout(0.25)(x_main)\n",
    "x_main = Conv2D(64, (3, 3), activation='relu')(x_main)\n",
    "x_main = MaxPooling2D(pool_size=(2, 2))(x_main)\n",
    "x_main = Dropout(0.25)(x_main)\n",
    "x_main = Flatten()(x_main)\n",
    "x_main = Model(inputs = input_main,outputs = x_main)\n",
    "\n",
    "x_top_left = Conv2D(32, kernel_size=(3, 3), activation=\"relu\")(input_top_left)\n",
    "x_top_left = Conv2D(64, (3, 3), activation='relu')(x_top_left)\n",
    "x_top_left = MaxPooling2D(pool_size=(2, 2))(x_top_left)\n",
    "x_top_left = Dropout(0.25)(x_top_left)\n",
    "x_top_left = Conv2D(64, (3, 3), activation='relu')(x_top_left)\n",
    "x_top_left = MaxPooling2D(pool_size=(2, 2))(x_top_left)\n",
    "x_top_left = Dropout(0.25)(x_top_left)\n",
    "x_top_left = Flatten()(x_top_left)\n",
    "x_top_left = Model(inputs = input_top_left,outputs = x_top_left)\n",
    "\n",
    "x_top_right = Conv2D(32, kernel_size=(3, 3), activation=\"relu\")(input_top_right)\n",
    "x_top_right = Conv2D(64, (3, 3), activation='relu')(x_top_right)\n",
    "x_top_right = MaxPooling2D(pool_size=(2, 2))(x_top_right)\n",
    "x_top_right = Dropout(0.25)(x_top_right)\n",
    "x_top_right = Conv2D(64, (3, 3), activation='relu')(x_top_right)\n",
    "x_top_right = MaxPooling2D(pool_size=(2, 2))(x_top_right)\n",
    "x_top_right = Dropout(0.25)(x_top_right)\n",
    "x_top_right = Flatten()(x_top_right)\n",
    "x_top_right = Model(inputs = input_top_right,outputs = x_top_right)\n",
    "\n",
    "x_bot_left = Conv2D(32, kernel_size=(3, 3), activation=\"relu\")(input_bot_left)\n",
    "x_bot_left = Conv2D(64, (3, 3), activation='relu')(x_bot_left)\n",
    "x_bot_left = MaxPooling2D(pool_size=(2, 2))(x_bot_left)\n",
    "x_bot_left = Dropout(0.25)(x_bot_left)\n",
    "x_bot_left = Conv2D(64, (3, 3), activation='relu')(x_bot_left)\n",
    "x_bot_left = MaxPooling2D(pool_size=(2, 2))(x_bot_left)\n",
    "x_bot_left = Dropout(0.25)(x_bot_left)\n",
    "x_bot_left = Flatten()(x_bot_left)\n",
    "x_bot_left = Model(inputs = input_bot_left,outputs = x_bot_left)\n",
    "\n",
    "x_bot_right = Conv2D(32, kernel_size=(3, 3), activation=\"relu\")(input_bot_right)\n",
    "x_bot_right = Conv2D(64, (3, 3), activation='relu')(x_bot_right)\n",
    "x_bot_right = MaxPooling2D(pool_size=(2, 2))(x_bot_right)\n",
    "x_bot_right = Dropout(0.25)(x_bot_right)\n",
    "x_bot_right = Conv2D(64, (3, 3), activation='relu')(x_bot_right)\n",
    "x_bot_right = MaxPooling2D(pool_size=(2, 2))(x_bot_right)\n",
    "x_bot_right = Dropout(0.25)(x_bot_right)\n",
    "x_bot_right = Flatten()(x_bot_right)\n",
    "x_bot_right = Model(inputs = input_bot_right,outputs = x_bot_right)\n",
    "\n",
    "\n",
    "combined = concatenate([x_main.output, x_top_left.output, x_top_right.output,\n",
    "                        x_bot_left.output, x_bot_right.output], axis=1)\n",
    "\n",
    "z = Dense(50, activation=\"relu\")(combined)\n",
    "z = Dense(num_classes, activation = 'softmax')(z)\n",
    "\n",
    "model = Model(inputs = [x_main.input, x_top_left.input, x_top_right.input,\n",
    "                        x_bot_left.input, x_bot_right.input], outputs = z)"
   ]
  },
  {
   "cell_type": "markdown",
   "metadata": {},
   "source": [
    "model.compile(loss=keras.losses.categorical_crossentropy,\n",
    "              optimizer=keras.optimizers.Adam(),\n",
    "              metrics=['accuracy'])\n",
    "\n",
    "model.fit([x_train,top_left_x_train,top_right_x_train,bot_left_x_train,bot_right_x_train], y_train,\n",
    "          batch_size=batch_size,\n",
    "          epochs=epochs,\n",
    "          verbose=1,\n",
    "        )"
   ]
  },
  {
   "cell_type": "code",
   "execution_count": 17,
   "metadata": {},
   "outputs": [
    {
     "name": "stdout",
     "output_type": "stream",
     "text": [
      "              precision    recall  f1-score   support\n",
      "\n",
      "           0     0.6162    0.3262    0.4266      1024\n",
      "           1     0.7898    0.4990    0.6116      1024\n",
      "           2     0.6208    0.8730    0.7256      1024\n",
      "           3     0.6549    0.2539    0.3659      1024\n",
      "           4     0.7904    0.5449    0.6451      1024\n",
      "           5     0.4293    0.8301    0.5659      1024\n",
      "           6     0.5281    0.5781    0.5520      1024\n",
      "           7     0.6688    0.4102    0.5085      1024\n",
      "           8     0.4602    0.8008    0.5845      1024\n",
      "           9     0.7292    0.7100    0.7194      1024\n",
      "\n",
      "    accuracy                         0.5826     10240\n",
      "   macro avg     0.6288    0.5826    0.5705     10240\n",
      "weighted avg     0.6288    0.5826    0.5705     10240\n",
      "\n",
      "[[334  71  95  23   8  55  46  23 309  60]\n",
      " [112 511 127   8  16 102  19  10  99  20]\n",
      " [ 14   8 894   5  20  48  11   5  14   5]\n",
      " [ 25   2 135 260   5 488  47  43  12   7]\n",
      " [  5   2  23  43 558 102   4   7 172 108]\n",
      " [  1   0  10   2   5 850   2   0 146   8]\n",
      " [ 10  21  34  17  70 148 592  90  14  28]\n",
      " [ 22  22  69  25   5 145 292 420  14  10]\n",
      " [ 15   8  50   2   4  27  70   4 820  24]\n",
      " [  4   2   3  12  15  15  38  26 182 727]]\n"
     ]
    }
   ],
   "source": [
    "from sklearn.metrics import classification_report\n",
    "from sklearn.metrics import confusion_matrix\n",
    "\n",
    "#y_digi_pred = model.predict(x_digi_test, batch_size=32, verbose=1)\n",
    "predicted = y_digi_pred#np.argmax(pred, axis=1)\n",
    "report = classification_report(y_digi_test, predicted, digits = 4)\n",
    "confusion_matrix = confusion_matrix(y_true=y_digi_test, y_pred=predicted)\n",
    "print(report)\n",
    "print(confusion_matrix)"
   ]
  },
  {
   "cell_type": "code",
   "execution_count": 18,
   "metadata": {},
   "outputs": [
    {
     "name": "stdout",
     "output_type": "stream",
     "text": [
      "              precision    recall  f1-score   support\n",
      "\n",
      "           0     0.9020    0.8100    0.8535      1000\n",
      "           1     0.8417    0.9040    0.8717      1000\n",
      "           2     0.9940    0.9910    0.9925      1000\n",
      "           3     0.8267    0.8870    0.8558      1000\n",
      "           4     0.8015    0.9530    0.8707      1000\n",
      "           5     0.9580    0.8660    0.9097      1000\n",
      "           6     0.8991    0.9270    0.9129      1000\n",
      "           7     0.9196    0.7890    0.8493      1000\n",
      "           8     0.9566    0.9470    0.9518      1000\n",
      "           9     0.9635    0.9500    0.9567      1000\n",
      "\n",
      "    accuracy                         0.9024     10000\n",
      "   macro avg     0.9063    0.9024    0.9025     10000\n",
      "weighted avg     0.9063    0.9024    0.9025     10000\n",
      "\n",
      "[[810 144   0  35   3   0   1   1   5   1]\n",
      " [ 25 904   2  49   6   6   0   0   3   5]\n",
      " [  4   1 991   0   2   1   1   0   0   0]\n",
      " [ 12   2   3 887  21  14  10  51   0   0]\n",
      " [  0   0   0  19 953   8   5   2   8   5]\n",
      " [  0   5   1   8 113 866   0   2   4   1]\n",
      " [  4   3   0  18  26   4 927  10   0   8]\n",
      " [ 18   8   0  55  42   3  83 789   1   1]\n",
      " [ 18   4   0   1  10   2   2   1 947  15]\n",
      " [  7   3   0   1  13   0   2   2  22 950]]\n"
     ]
    }
   ],
   "source": [
    "from sklearn.metrics import classification_report\n",
    "from sklearn.metrics import confusion_matrix\n",
    "\n",
    "#y_test_pred = model.predict(x_test, batch_size=32, verbose=1)\n",
    "predicted = y_test_pred#np.argmax(pred, axis=1)\n",
    "report = classification_report(y_test, predicted, digits = 4)\n",
    "confusion_matrix = confusion_matrix(y_true=y_test, y_pred=predicted)\n",
    "print(report)\n",
    "print(confusion_matrix)"
   ]
  },
  {
   "cell_type": "code",
   "execution_count": null,
   "metadata": {},
   "outputs": [],
   "source": []
  }
 ],
 "metadata": {
  "kernelspec": {
   "display_name": "Python 3",
   "language": "python",
   "name": "python3"
  },
  "language_info": {
   "codemirror_mode": {
    "name": "ipython",
    "version": 3
   },
   "file_extension": ".py",
   "mimetype": "text/x-python",
   "name": "python",
   "nbconvert_exporter": "python",
   "pygments_lexer": "ipython3",
   "version": "3.7.3"
  }
 },
 "nbformat": 4,
 "nbformat_minor": 2
}
