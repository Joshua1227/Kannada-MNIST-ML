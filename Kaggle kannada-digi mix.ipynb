{
 "cells": [
  {
   "cell_type": "code",
   "execution_count": 1,
   "metadata": {},
   "outputs": [],
   "source": [
    "import time\n",
    "\n",
    "import matplotlib.pyplot as plt \n",
    "import numpy as np \n",
    "import os \n",
    "import pandas as pd \n",
    "import seaborn as sns"
   ]
  },
  {
   "cell_type": "code",
   "execution_count": 2,
   "metadata": {},
   "outputs": [],
   "source": [
    "def plot_cm(y_true, y_pred, figsize=(10,10)):\n",
    "    cm = confusion_matrix(y_true, y_pred, labels=np.unique(y_true))\n",
    "    cm_sum = np.sum(cm, axis=1, keepdims=True)\n",
    "    cm_perc = cm / cm_sum.astype(float) * 100\n",
    "    annot = np.empty_like(cm).astype(str)\n",
    "    nrows, ncols = cm.shape\n",
    "    for i in range(nrows):\n",
    "        for j in range(ncols):\n",
    "            c = cm[i, j]\n",
    "            p = cm_perc[i, j]\n",
    "            if i == j:\n",
    "                s = cm_sum[i]\n",
    "                annot[i, j] = '%.1f%%\\n%d/%d' % (p, c, s)\n",
    "            elif c == 0:\n",
    "                annot[i, j] = ''\n",
    "            else:\n",
    "                annot[i, j] = '%.1f%%\\n%d' % (p, c)\n",
    "    cm = pd.DataFrame(cm, index=np.unique(y_true), columns=np.unique(y_true))\n",
    "    cm.index.name = 'Actual'\n",
    "    cm.columns.name = 'Predicted'\n",
    "    fig, ax = plt.subplots(figsize=figsize)\n",
    "    sns.heatmap(cm, cmap= \"YlGnBu\", annot=annot, fmt='', ax=ax)"
   ]
  },
  {
   "cell_type": "code",
   "execution_count": 3,
   "metadata": {},
   "outputs": [],
   "source": [
    "train_images = np.load(\"Kannada_MNIST_npz/Kannada_MNIST/X_kannada_MNIST_train.npz\")['arr_0']\n",
    "test_images = np.load(\"Kannada_MNIST_npz/Kannada_MNIST/X_kannada_MNIST_test.npz\")['arr_0']\n",
    "train_labels = np.load(\"Kannada_MNIST_npz/Kannada_MNIST/y_kannada_MNIST_train.npz\")['arr_0']\n",
    "test_labels = np.load(\"Kannada_MNIST_npz/Kannada_MNIST/y_kannada_MNIST_test.npz\")['arr_0']\n",
    "digi_images = np.load(\"Kannada_MNIST_npz/Dig_MNIST/X_dig_MNIST.npz\")['arr_0']\n",
    "digi_labels = np.load(\"Kannada_MNIST_npz/Dig_MNIST/y_dig_MNIST.npz\")['arr_0']"
   ]
  },
  {
   "cell_type": "code",
   "execution_count": 4,
   "metadata": {},
   "outputs": [],
   "source": [
    "from sklearn.model_selection import train_test_split\n",
    "train_digi_x, test_digi_x, train_digi_y, test_digi_y = train_test_split(digi_images, digi_labels, \n",
    "                                                                        test_size=0.9,stratify=digi_labels, \n",
    "                                                                        random_state=71)\n"
   ]
  },
  {
   "cell_type": "code",
   "execution_count": 5,
   "metadata": {},
   "outputs": [
    {
     "data": {
      "text/plain": [
       "(1024, 28, 28)"
      ]
     },
     "execution_count": 5,
     "metadata": {},
     "output_type": "execute_result"
    }
   ],
   "source": [
    "train_digi_x.shape"
   ]
  },
  {
   "cell_type": "code",
   "execution_count": 6,
   "metadata": {},
   "outputs": [
    {
     "data": {
      "text/plain": [
       "(60000, 28, 28)"
      ]
     },
     "execution_count": 6,
     "metadata": {},
     "output_type": "execute_result"
    }
   ],
   "source": [
    "train_images.shape"
   ]
  },
  {
   "cell_type": "code",
   "execution_count": 7,
   "metadata": {},
   "outputs": [],
   "source": [
    "train_x = np.concatenate((train_images, train_digi_x), axis=0)\n",
    "train_y = np.concatenate((train_labels, train_digi_y), axis=0)"
   ]
  },
  {
   "cell_type": "code",
   "execution_count": 8,
   "metadata": {},
   "outputs": [
    {
     "data": {
      "text/plain": [
       "(61024, 28, 28)"
      ]
     },
     "execution_count": 8,
     "metadata": {},
     "output_type": "execute_result"
    }
   ],
   "source": [
    "train_x.shape"
   ]
  },
  {
   "cell_type": "code",
   "execution_count": 9,
   "metadata": {},
   "outputs": [
    {
     "data": {
      "image/png": "[encoded data removed]",
      "text/plain": [
       "<Figure size 720x720 with 25 Axes>"
      ]
     },
     "metadata": {},
     "output_type": "display_data"
    }
   ],
   "source": [
    "plt.figure(figsize=(10,10))\n",
    "for i in range(25):\n",
    "    plt.subplot(5,5,i+1)\n",
    "    plt.xticks([])\n",
    "    plt.yticks([])\n",
    "    plt.grid(False)\n",
    "    plt.imshow(train_images[i], cmap=plt.cm.binary)\n",
    "    plt.xlabel(train_labels[i])"
   ]
  },
  {
   "cell_type": "code",
   "execution_count": 10,
   "metadata": {},
   "outputs": [],
   "source": [
    "import tensorflow.keras as keras\n",
    "from tensorflow.keras.datasets import mnist\n",
    "from tensorflow.keras.models import Sequential\n",
    "from tensorflow.keras.layers import Dense, Dropout, Flatten\n",
    "from tensorflow.keras.layers import Conv2D, MaxPooling2D\n",
    "from tensorflow.keras import backend as K"
   ]
  },
  {
   "cell_type": "code",
   "execution_count": 11,
   "metadata": {},
   "outputs": [],
   "source": [
    "img_rows, img_cols = 28, 28\n",
    "batch_size = 128\n",
    "num_classes = 10\n",
    "epochs = 10"
   ]
  },
  {
   "cell_type": "code",
   "execution_count": 12,
   "metadata": {},
   "outputs": [],
   "source": [
    "x_train = np.expand_dims(train_x, axis=-1)\n",
    "x_test = np.expand_dims(test_images, axis=-1)\n",
    "y_train = keras.utils.to_categorical(train_y)\n",
    "y_test = keras.utils.to_categorical(test_labels)"
   ]
  },
  {
   "cell_type": "code",
   "execution_count": 13,
   "metadata": {},
   "outputs": [],
   "source": [
    "x_train, x_valid, y_train, y_valid = train_test_split(x_train, y_train, test_size=0.01,\n",
    "                                                      random_state=71, stratify = y_train)"
   ]
  },
  {
   "cell_type": "code",
   "execution_count": 14,
   "metadata": {},
   "outputs": [
    {
     "name": "stderr",
     "output_type": "stream",
     "text": [
      "Using TensorFlow backend.\n"
     ]
    }
   ],
   "source": [
    "from keras import backend as K\n",
    "\n",
    "def recall_m(y_true, y_pred):\n",
    "        true_positives = K.sum(K.round(K.clip(y_true * y_pred, 0, 1)))\n",
    "        possible_positives = K.sum(K.round(K.clip(y_true, 0, 1)))\n",
    "        recall = true_positives / (possible_positives + K.epsilon())\n",
    "        return recall\n",
    "\n",
    "def precision_m(y_true, y_pred):\n",
    "        true_positives = K.sum(K.round(K.clip(y_true * y_pred, 0, 1)))\n",
    "        predicted_positives = K.sum(K.round(K.clip(y_pred, 0, 1)))\n",
    "        precision = true_positives / (predicted_positives + K.epsilon())\n",
    "        return precision\n",
    "\n",
    "def f1_m(y_true, y_pred):\n",
    "    precision = precision_m(y_true, y_pred)\n",
    "    recall = recall_m(y_true, y_pred)\n",
    "    return 2*((precision*recall)/(precision+recall+K.epsilon()))\n",
    "\n",
    "#mcp_save = ModelCheckpoint('.mdl_wts.hdf5', save_best_only=True, monitor='val_loss', mode='min')"
   ]
  },
  {
   "cell_type": "code",
   "execution_count": 15,
   "metadata": {},
   "outputs": [
    {
     "name": "stdout",
     "output_type": "stream",
     "text": [
      "WARNING:tensorflow:From /home/daniel/anaconda3/lib/python3.7/site-packages/tensorflow/python/ops/init_ops.py:1251: calling VarianceScaling.__init__ (from tensorflow.python.ops.init_ops) with dtype is deprecated and will be removed in a future version.\n",
      "Instructions for updating:\n",
      "Call initializer instance with the dtype argument instead of passing it to the constructor\n"
     ]
    }
   ],
   "source": [
    "model = Sequential()\n",
    "model.add(Conv2D(32, kernel_size=(3, 3),\n",
    "                 activation='relu',\n",
    "                 input_shape=(img_rows, img_cols, 1)))\n",
    "model.add(Conv2D(64, (3, 3), activation='relu'))\n",
    "model.add(MaxPooling2D(pool_size=(2, 2)))\n",
    "model.add(Dropout(0.25))\n",
    "model.add(Flatten())\n",
    "model.add(Dense(4096, activation='relu'))\n",
    "model.add(Dropout(0.5))\n",
    "model.add(Dense(128, activation='relu'))\n",
    "model.add(Dropout(0.5))\n",
    "model.add(Dense(64, activation='relu'))\n",
    "model.add(Dropout(0.5))\n",
    "model.add(Dense(num_classes, activation='softmax'))"
   ]
  },
  {
   "cell_type": "code",
   "execution_count": 16,
   "metadata": {},
   "outputs": [
    {
     "name": "stdout",
     "output_type": "stream",
     "text": [
      "Train on 60413 samples, validate on 611 samples\n",
      "Epoch 1/10\n",
      "60413/60413 [==============================] - 23s 375us/sample - loss: 2.1504 - acc: 0.3972 - val_loss: 0.5138 - val_acc: 0.9264\n",
      "Epoch 2/10\n",
      "60413/60413 [==============================] - 23s 378us/sample - loss: 0.6773 - acc: 0.8068 - val_loss: 0.1854 - val_acc: 0.9738\n",
      "Epoch 3/10\n",
      "60413/60413 [==============================] - 25s 417us/sample - loss: 0.3369 - acc: 0.9183 - val_loss: 0.1132 - val_acc: 0.9820\n",
      "Epoch 4/10\n",
      "60413/60413 [==============================] - 26s 430us/sample - loss: 0.2158 - acc: 0.9525 - val_loss: 0.0976 - val_acc: 0.9820\n",
      "Epoch 5/10\n",
      "60413/60413 [==============================] - 49s 805us/sample - loss: 0.1554 - acc: 0.9665 - val_loss: 0.0671 - val_acc: 0.9869\n",
      "Epoch 6/10\n",
      "60413/60413 [==============================] - 71s 1ms/sample - loss: 0.1159 - acc: 0.9757 - val_loss: 0.0808 - val_acc: 0.9885\n",
      "Epoch 7/10\n",
      "60413/60413 [==============================] - 80s 1ms/sample - loss: 0.1030 - acc: 0.9777 - val_loss: 0.0696 - val_acc: 0.9902\n",
      "Epoch 8/10\n",
      "60413/60413 [==============================] - 81s 1ms/sample - loss: 0.0895 - acc: 0.9807 - val_loss: 0.0630 - val_acc: 0.9885\n",
      "Epoch 9/10\n",
      "60413/60413 [==============================] - 78s 1ms/sample - loss: 0.0760 - acc: 0.9830 - val_loss: 0.0516 - val_acc: 0.9869\n",
      "Epoch 10/10\n",
      "60413/60413 [==============================] - 55s 913us/sample - loss: 0.0728 - acc: 0.9844 - val_loss: 0.0846 - val_acc: 0.9885\n"
     ]
    },
    {
     "data": {
      "text/plain": [
       "<tensorflow.python.keras.callbacks.History at 0x7f1c75588f98>"
      ]
     },
     "execution_count": 16,
     "metadata": {},
     "output_type": "execute_result"
    }
   ],
   "source": [
    "model.compile(loss=keras.losses.categorical_crossentropy,\n",
    "              optimizer=keras.optimizers.Adam(),\n",
    "              metrics=['accuracy'])\n",
    "\n",
    "model.fit(x_train, y_train,\n",
    "          batch_size=batch_size,\n",
    "          epochs=epochs,\n",
    "          verbose=1,\n",
    "          #callbacks=[mcp_save],\n",
    "          validation_data=(x_valid, y_valid))"
   ]
  },
  {
   "cell_type": "code",
   "execution_count": 17,
   "metadata": {},
   "outputs": [
    {
     "name": "stdout",
     "output_type": "stream",
     "text": [
      "Xtest loss: 0.2396828329101205\n",
      "Xtest accuracy: 0.9597\n"
     ]
    }
   ],
   "source": [
    "#loss, accuracy, f1_score, precision, recall = model.evaluate(x_test, y_test, verbose=0)\n",
    "loss, accuracy = model.evaluate(x_test, y_test, verbose=0)\n",
    "\n",
    "print('Xtest loss:', loss)\n",
    "print('Xtest accuracy:', accuracy)\n",
    "#print('Xtest f1:', f1_score)\n",
    "#print('Xtest precision:', precision)\n",
    "#print('Xtest recall:', recall)"
   ]
  },
  {
   "cell_type": "code",
   "execution_count": 18,
   "metadata": {},
   "outputs": [],
   "source": [
    "test_digi_x = np.expand_dims(test_digi_x, axis=-1)\n",
    "test_digi_y = keras.utils.to_categorical(test_digi_y)"
   ]
  },
  {
   "cell_type": "code",
   "execution_count": 19,
   "metadata": {},
   "outputs": [
    {
     "name": "stdout",
     "output_type": "stream",
     "text": [
      "Xtest loss: 1.1287087091348238\n",
      "Xtest accuracy: 0.8562283\n"
     ]
    }
   ],
   "source": [
    "#loss, accuracy, f1_score, precision, recall = model.evaluate(x_digi_test, y_digi_test, verbose=0)\n",
    "loss, accuracy = model.evaluate(test_digi_x, test_digi_y, verbose=0)\n",
    "print('Xtest loss:', loss)\n",
    "print('Xtest accuracy:', accuracy)\n",
    "#print('Xtest f1:', f1_score)\n",
    "#print('Xtest precision:', precision)\n",
    "#print('Xtest recall:', recall)"
   ]
  },
  {
   "cell_type": "code",
   "execution_count": 20,
   "metadata": {},
   "outputs": [
    {
     "name": "stdout",
     "output_type": "stream",
     "text": [
      "10000/10000 [==============================] - 8s 766us/sample\n",
      "              precision    recall  f1-score   support\n",
      "\n",
      "           0     0.9886    0.8690    0.9250      1000\n",
      "           1     0.8800    0.9900    0.9318      1000\n",
      "           2     0.9990    0.9980    0.9985      1000\n",
      "           3     0.9601    0.9630    0.9616      1000\n",
      "           4     0.9243    0.9890    0.9556      1000\n",
      "           5     0.9872    0.9290    0.9572      1000\n",
      "           6     0.9338    0.9740    0.9535      1000\n",
      "           7     0.9859    0.9070    0.9448      1000\n",
      "           8     0.9871    0.9930    0.9900      1000\n",
      "           9     0.9714    0.9850    0.9782      1000\n",
      "\n",
      "    accuracy                         0.9597     10000\n",
      "   macro avg     0.9617    0.9597    0.9596     10000\n",
      "weighted avg     0.9617    0.9597    0.9596     10000\n",
      "\n",
      "[[869 116   0   6   5   0   0   0   2   2]\n",
      " [  0 990   0   5   1   1   0   2   1   0]\n",
      " [  1   1 998   0   0   0   0   0   0   0]\n",
      " [  0  11   1 963   3   5   5  11   0   1]\n",
      " [  0   0   0   4 989   4   2   0   0   1]\n",
      " [  0   1   0   6  61 929   3   0   0   0]\n",
      " [  0   3   0   0   4   0 974   0   1  18]\n",
      " [  6   2   0  17   5   1  56 907   2   4]\n",
      " [  0   0   0   2   1   1   0   0 993   3]\n",
      " [  3   1   0   0   1   0   3   0   7 985]]\n"
     ]
    }
   ],
   "source": [
    "from sklearn.metrics import classification_report\n",
    "from sklearn.metrics import confusion_matrix\n",
    "\n",
    "pred = model.predict(x_test, batch_size=32, verbose=1)\n",
    "predicted = np.argmax(pred, axis=1)\n",
    "report = classification_report(np.argmax(y_test, axis=1), predicted, digits = 4)\n",
    "confusion_matrix = confusion_matrix(y_true=np.argmax(y_test, axis=1), y_pred=predicted)\n",
    "print(report)\n",
    "print(confusion_matrix)"
   ]
  },
  {
   "cell_type": "code",
   "execution_count": 21,
   "metadata": {},
   "outputs": [
    {
     "name": "stdout",
     "output_type": "stream",
     "text": [
      "9216/9216 [==============================] - 2s 248us/sample\n",
      "              precision    recall  f1-score   support\n",
      "\n",
      "           0     0.9542    0.6779    0.7926       922\n",
      "           1     0.8322    0.9089    0.8688       922\n",
      "           2     0.8909    0.9295    0.9098       922\n",
      "           3     0.7874    0.8447    0.8151       921\n",
      "           4     0.9421    0.8827    0.9114       921\n",
      "           5     0.8281    0.9674    0.8923       921\n",
      "           6     0.7244    0.8132    0.7662       921\n",
      "           7     0.8975    0.7408    0.8116       922\n",
      "           8     0.8774    0.9241    0.9002       922\n",
      "           9     0.8954    0.8731    0.8841       922\n",
      "\n",
      "    accuracy                         0.8562      9216\n",
      "   macro avg     0.8630    0.8562    0.8552      9216\n",
      "weighted avg     0.8630    0.8562    0.8552      9216\n",
      "\n",
      "[[625 135  19  49   0  11   7   0  34  42]\n",
      " [ 12 838   7  23   1  29   0   2   7   3]\n",
      " [ 10   8 857  23   0   8  10   2   3   1]\n",
      " [  3   1  24 778   1  73  15  22   4   0]\n",
      " [  1   4  11  12 813  37   6   0  22  15]\n",
      " [  0   3   1   5  10 891   3   1   6   1]\n",
      " [  0   1  13  46  30   8 749  46  10  18]\n",
      " [  0   3  16  32   3   7 172 683   2   4]\n",
      " [  3   6  12  16   3  10   9   1 852  10]\n",
      " [  1   8   2   4   2   2  63   4  31 805]]\n"
     ]
    }
   ],
   "source": [
    "from sklearn.metrics import classification_report\n",
    "from sklearn.metrics import confusion_matrix\n",
    "\n",
    "pred = model.predict(test_digi_x, batch_size=32, verbose=1)\n",
    "predicted = np.argmax(pred, axis=1)\n",
    "report = classification_report(np.argmax(test_digi_y, axis=1), predicted, digits = 4)\n",
    "confusion_matrix = confusion_matrix(y_true=np.argmax(test_digi_y, axis=1), y_pred=np.argmax(pred, axis=1))\n",
    "print(report)\n",
    "print(confusion_matrix)"
   ]
  },
  {
   "cell_type": "code",
   "execution_count": 22,
   "metadata": {},
   "outputs": [],
   "source": [
    "#plot_cm(np.argmax(y_digi_test, axis=1), np.argmax(pred, axis=1))"
   ]
  },
  {
   "cell_type": "code",
   "execution_count": 23,
   "metadata": {},
   "outputs": [
    {
     "name": "stdout",
     "output_type": "stream",
     "text": [
      "Model: \"sequential\"\n",
      "_________________________________________________________________\n",
      "Layer (type)                 Output Shape              Param #   \n",
      "=================================================================\n",
      "conv2d (Conv2D)              (None, 26, 26, 32)        320       \n",
      "_________________________________________________________________\n",
      "conv2d_1 (Conv2D)            (None, 24, 24, 64)        18496     \n",
      "_________________________________________________________________\n",
      "max_pooling2d (MaxPooling2D) (None, 12, 12, 64)        0         \n",
      "_________________________________________________________________\n",
      "dropout (Dropout)            (None, 12, 12, 64)        0         \n",
      "_________________________________________________________________\n",
      "flatten (Flatten)            (None, 9216)              0         \n",
      "_________________________________________________________________\n",
      "dense (Dense)                (None, 4096)              37752832  \n",
      "_________________________________________________________________\n",
      "dropout_1 (Dropout)          (None, 4096)              0         \n",
      "_________________________________________________________________\n",
      "dense_1 (Dense)              (None, 128)               524416    \n",
      "_________________________________________________________________\n",
      "dropout_2 (Dropout)          (None, 128)               0         \n",
      "_________________________________________________________________\n",
      "dense_2 (Dense)              (None, 64)                8256      \n",
      "_________________________________________________________________\n",
      "dropout_3 (Dropout)          (None, 64)                0         \n",
      "_________________________________________________________________\n",
      "dense_3 (Dense)              (None, 10)                650       \n",
      "=================================================================\n",
      "Total params: 38,304,970\n",
      "Trainable params: 38,304,970\n",
      "Non-trainable params: 0\n",
      "_________________________________________________________________\n",
      "None\n"
     ]
    }
   ],
   "source": [
    "print(model.summary())"
   ]
  },
  {
   "cell_type": "code",
   "execution_count": 24,
   "metadata": {},
   "outputs": [
    {
     "name": "stdout",
     "output_type": "stream",
     "text": [
      "10000/10000 [==============================] - 7s 738us/sample\n"
     ]
    }
   ],
   "source": [
    "from sklearn.metrics import confusion_matrix\n",
    "\n",
    "pred = model.predict(x_test, batch_size=32, verbose=1)\n",
    "predicted = np.argmax(pred, axis=1)\n",
    "confusion_matrix = confusion_matrix(y_true=np.argmax(y_test, axis=1), y_pred=predicted)"
   ]
  },
  {
   "cell_type": "code",
   "execution_count": 25,
   "metadata": {},
   "outputs": [
    {
     "name": "stdout",
     "output_type": "stream",
     "text": [
      "[[869 116   0   6   5   0   0   0   2   2]\n",
      " [  0 990   0   5   1   1   0   2   1   0]\n",
      " [  1   1 998   0   0   0   0   0   0   0]\n",
      " [  0  11   1 963   3   5   5  11   0   1]\n",
      " [  0   0   0   4 989   4   2   0   0   1]\n",
      " [  0   1   0   6  61 929   3   0   0   0]\n",
      " [  0   3   0   0   4   0 974   0   1  18]\n",
      " [  6   2   0  17   5   1  56 907   2   4]\n",
      " [  0   0   0   2   1   1   0   0 993   3]\n",
      " [  3   1   0   0   1   0   3   0   7 985]]\n"
     ]
    }
   ],
   "source": [
    "print(confusion_matrix)"
   ]
  },
  {
   "cell_type": "code",
   "execution_count": 26,
   "metadata": {},
   "outputs": [
    {
     "name": "stdout",
     "output_type": "stream",
     "text": [
      "[0 1 2 ... 7 8 9]\n"
     ]
    }
   ],
   "source": [
    "print(np.argmax(y_test, axis=1))"
   ]
  },
  {
   "cell_type": "code",
   "execution_count": null,
   "metadata": {},
   "outputs": [],
   "source": []
  }
 ],
 "metadata": {
  "kernelspec": {
   "display_name": "Python 3",
   "language": "python",
   "name": "python3"
  },
  "language_info": {
   "codemirror_mode": {
    "name": "ipython",
    "version": 3
   },
   "file_extension": ".py",
   "mimetype": "text/x-python",
   "name": "python",
   "nbconvert_exporter": "python",
   "pygments_lexer": "ipython3",
   "version": "3.7.3"
  }
 },
 "nbformat": 4,
 "nbformat_minor": 2
}
