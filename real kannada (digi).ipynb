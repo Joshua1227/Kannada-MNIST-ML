{
 "cells": [
  {
   "cell_type": "code",
   "execution_count": 1,
   "metadata": {},
   "outputs": [],
   "source": [
    "import time\n",
    "\n",
    "import matplotlib.pyplot as plt \n",
    "import numpy as np \n",
    "import os \n",
    "import pandas as pd \n",
    "from sklearn.manifold import TSNE"
   ]
  },
  {
   "cell_type": "code",
   "execution_count": 2,
   "metadata": {},
   "outputs": [],
   "source": [
    "images = np.load(\"Kannada_MNIST_npz/Dig_MNIST/X_dig_MNIST.npz\")['arr_0']\n",
    "labels = np.load(\"Kannada_MNIST_npz/Dig_MNIST/y_dig_MNIST.npz\")['arr_0']"
   ]
  },
  {
   "cell_type": "code",
   "execution_count": 3,
   "metadata": {
    "scrolled": true
   },
   "outputs": [
    {
     "data": {
      "image/png": "[encoded data removed]",
      "text/plain": [
       "<Figure size 720x720 with 25 Axes>"
      ]
     },
     "metadata": {},
     "output_type": "display_data"
    }
   ],
   "source": [
    "plt.figure(figsize=(10,10))\n",
    "for i in range(25):\n",
    "    plt.subplot(5,5,i+1)\n",
    "    plt.xticks([])\n",
    "    plt.yticks([])\n",
    "    plt.grid(False)\n",
    "    plt.imshow(images[i], cmap=plt.cm.binary)\n",
    "    plt.xlabel(labels[i])"
   ]
  },
  {
   "cell_type": "code",
   "execution_count": 4,
   "metadata": {},
   "outputs": [],
   "source": [
    "from sklearn.model_selection import train_test_split\n",
    "X_train, X_test, y_train, y_test = train_test_split(images, labels, test_size=0.2, random_state=67)\n",
    "X_train, X_valid, y_train, y_valid = train_test_split(X_train, y_train, test_size=0.05, random_state=71)"
   ]
  },
  {
   "cell_type": "code",
   "execution_count": 5,
   "metadata": {},
   "outputs": [],
   "source": [
    "import tensorflow.keras as keras\n",
    "from tensorflow.keras.datasets import mnist\n",
    "from tensorflow.keras.models import Sequential\n",
    "from tensorflow.keras.layers import Dense, Dropout, Flatten\n",
    "from tensorflow.keras.layers import Conv2D, MaxPooling2D\n",
    "from tensorflow.keras import backend as K"
   ]
  },
  {
   "cell_type": "code",
   "execution_count": 6,
   "metadata": {},
   "outputs": [],
   "source": [
    "x_train = np.expand_dims(X_train, axis=-1)\n",
    "x_test = np.expand_dims(X_test, axis=-1)\n",
    "x_valid = np.expand_dims(X_valid, axis=-1)\n",
    "y_valid = keras.utils.to_categorical(y_valid)\n",
    "y_train = keras.utils.to_categorical(y_train)\n",
    "y_test = keras.utils.to_categorical(y_test)"
   ]
  },
  {
   "cell_type": "code",
   "execution_count": 7,
   "metadata": {},
   "outputs": [],
   "source": [
    "img_rows, img_cols = 28, 28\n",
    "batch_size = 128\n",
    "num_classes = 10\n",
    "epochs = 12"
   ]
  },
  {
   "cell_type": "code",
   "execution_count": 8,
   "metadata": {},
   "outputs": [
    {
     "name": "stdout",
     "output_type": "stream",
     "text": [
      "WARNING:tensorflow:From /home/daniel/anaconda3/lib/python3.7/site-packages/tensorflow/python/ops/init_ops.py:1251: calling VarianceScaling.__init__ (from tensorflow.python.ops.init_ops) with dtype is deprecated and will be removed in a future version.\n",
      "Instructions for updating:\n",
      "Call initializer instance with the dtype argument instead of passing it to the constructor\n"
     ]
    }
   ],
   "source": [
    "model = Sequential()\n",
    "model.add(Conv2D(32, kernel_size=(3, 3),\n",
    "                 activation='relu',\n",
    "                 input_shape=(img_rows, img_cols, 1)))\n",
    "model.add(Conv2D(64, (3, 3), activation='relu'))\n",
    "model.add(MaxPooling2D(pool_size=(2, 2)))\n",
    "model.add(Dropout(0.25))\n",
    "model.add(Flatten())\n",
    "model.add(Dense(128, activation='relu'))\n",
    "model.add(Dropout(0.5))\n",
    "model.add(Dense(num_classes, activation='softmax'))"
   ]
  },
  {
   "cell_type": "code",
   "execution_count": 9,
   "metadata": {},
   "outputs": [
    {
     "name": "stdout",
     "output_type": "stream",
     "text": [
      "Train on 7782 samples, validate on 2048 samples\n",
      "Epoch 1/12\n",
      "7782/7782 [==============================] - 2s 266us/sample - loss: 4.0589 - acc: 0.4121 - val_loss: 0.6862 - val_acc: 0.8223\n",
      "Epoch 2/12\n",
      "7782/7782 [==============================] - 1s 124us/sample - loss: 0.8763 - acc: 0.7095 - val_loss: 0.3273 - val_acc: 0.8994\n",
      "Epoch 3/12\n",
      "7782/7782 [==============================] - 1s 129us/sample - loss: 0.5726 - acc: 0.8075 - val_loss: 0.2295 - val_acc: 0.9272\n",
      "Epoch 4/12\n",
      "7782/7782 [==============================] - 1s 128us/sample - loss: 0.4470 - acc: 0.8534 - val_loss: 0.2034 - val_acc: 0.9390\n",
      "Epoch 5/12\n",
      "7782/7782 [==============================] - 1s 124us/sample - loss: 0.3669 - acc: 0.8712 - val_loss: 0.1887 - val_acc: 0.9399\n",
      "Epoch 6/12\n",
      "7782/7782 [==============================] - 1s 123us/sample - loss: 0.3236 - acc: 0.8891 - val_loss: 0.1655 - val_acc: 0.9482\n",
      "Epoch 7/12\n",
      "7782/7782 [==============================] - 1s 127us/sample - loss: 0.2804 - acc: 0.9034 - val_loss: 0.1639 - val_acc: 0.9463\n",
      "Epoch 8/12\n",
      "7782/7782 [==============================] - 1s 130us/sample - loss: 0.2489 - acc: 0.9124 - val_loss: 0.1647 - val_acc: 0.9541\n",
      "Epoch 9/12\n",
      "7782/7782 [==============================] - 1s 125us/sample - loss: 0.2253 - acc: 0.9171 - val_loss: 0.1516 - val_acc: 0.9536\n",
      "Epoch 10/12\n",
      "7782/7782 [==============================] - 1s 120us/sample - loss: 0.1904 - acc: 0.9288 - val_loss: 0.1471 - val_acc: 0.9531\n",
      "Epoch 11/12\n",
      "7782/7782 [==============================] - 1s 131us/sample - loss: 0.1873 - acc: 0.9368 - val_loss: 0.1578 - val_acc: 0.9517\n",
      "Epoch 12/12\n",
      "7782/7782 [==============================] - 1s 131us/sample - loss: 0.1831 - acc: 0.9314 - val_loss: 0.1515 - val_acc: 0.9512\n"
     ]
    },
    {
     "data": {
      "text/plain": [
       "<tensorflow.python.keras.callbacks.History at 0x7f90c8c83390>"
      ]
     },
     "execution_count": 9,
     "metadata": {},
     "output_type": "execute_result"
    }
   ],
   "source": [
    "model.compile(loss=keras.losses.categorical_crossentropy,\n",
    "              optimizer=keras.optimizers.Adam(),\n",
    "              metrics=['accuracy'])\n",
    "\n",
    "model.fit(x_train, y_train,\n",
    "          batch_size=batch_size,\n",
    "          epochs=epochs,\n",
    "          verbose=1,\n",
    "          validation_data=(x_test, y_test))"
   ]
  },
  {
   "cell_type": "code",
   "execution_count": null,
   "metadata": {},
   "outputs": [],
   "source": []
  }
 ],
 "metadata": {
  "kernelspec": {
   "display_name": "Python 3",
   "language": "python",
   "name": "python3"
  },
  "language_info": {
   "codemirror_mode": {
    "name": "ipython",
    "version": 3
   },
   "file_extension": ".py",
   "mimetype": "text/x-python",
   "name": "python",
   "nbconvert_exporter": "python",
   "pygments_lexer": "ipython3",
   "version": "3.7.3"
  }
 },
 "nbformat": 4,
 "nbformat_minor": 2
}
